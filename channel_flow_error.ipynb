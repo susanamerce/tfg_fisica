{
 "cells": [
  {
   "cell_type": "code",
   "execution_count": 2,
   "metadata": {},
   "outputs": [],
   "source": [
    "from __future__ import print_function\n",
    "from dolfin import *\n",
    "import numpy as np"
   ]
  },
  {
   "cell_type": "code",
   "execution_count": 3,
   "metadata": {},
   "outputs": [],
   "source": [
    "# Partim de l'equació de Navier-Stokes escalada: \\delta u / \\delta t + Re · u · \\nabla u = - \\nabla u + \\nabla ^2 u\n",
    "# i de \\nabla · u = 0\n",
    "\n",
    "# u = (ux,0) --> \\delta u /\\delta x = 0 , per tant ux=ux(y)\n",
    "\n",
    "# Aplicant això obtenim que p(x) = 8(1-x) i ux=4y(1-y)\n",
    "\n",
    "\n"
   ]
  },
  {
   "cell_type": "code",
   "execution_count": 4,
   "metadata": {},
   "outputs": [],
   "source": [
    "# Variables:\n",
    "\n",
    "T = 10.0           # temps total\n",
    "num_steps = 500    # nombre de time steps\n",
    "dt = T / num_steps # dt\n",
    "mu = 1             # viscositat\n",
    "rho = 1            # densitat"
   ]
  },
  {
   "cell_type": "code",
   "execution_count": 37,
   "metadata": {},
   "outputs": [],
   "source": [
    "# Create mesh and define function spaces\n",
    "\n",
    "mesh = UnitSquareMesh(16, 16)\n",
    "V = VectorFunctionSpace(mesh, 'P', 2) # espai per la velocitat\n",
    "Q = FunctionSpace(mesh, 'P', 1)       # espai per la pressió"
   ]
  },
  {
   "cell_type": "code",
   "execution_count": 6,
   "metadata": {},
   "outputs": [],
   "source": [
    "def boundary(x):\n",
    "    return x[0] < DOLFIN_EPS or x[0] > 1.0 - DOLFIN_EPS"
   ]
  },
  {
   "cell_type": "code",
   "execution_count": 7,
   "metadata": {},
   "outputs": [],
   "source": [
    "# Definim els contorns\n",
    "\n",
    "inflow  = 'near(x[0], 0)' \n",
    "outflow = 'near(x[0], 1)'\n",
    "walls   = 'near(x[1], 0) || near(x[1], 1)'"
   ]
  },
  {
   "cell_type": "code",
   "execution_count": 8,
   "metadata": {},
   "outputs": [],
   "source": [
    "# Define boundary conditions\n",
    "bcu_noslip  = DirichletBC(V, Constant((0, 0)), walls)\n",
    "bcp_inflow  = DirichletBC(Q, Constant(8), inflow) # quan x=0 p=8\n",
    "bcp_outflow = DirichletBC(Q, Constant(0), outflow) # quan x=1 p=0\n",
    "bcu = [bcu_noslip] \n",
    "bcp = [bcp_inflow, bcp_outflow]"
   ]
  },
  {
   "cell_type": "code",
   "execution_count": 9,
   "metadata": {},
   "outputs": [],
   "source": [
    "# Define trial and test functions\n",
    "u = TrialFunction(V)\n",
    "v = TestFunction(V)\n",
    "p = TrialFunction(Q)\n",
    "q = TestFunction(Q)"
   ]
  },
  {
   "cell_type": "code",
   "execution_count": 10,
   "metadata": {},
   "outputs": [],
   "source": [
    "# Define functions for solutions at previous and current time steps\n",
    "u_n = Function(V)\n",
    "u_  = Function(V)\n",
    "p_n = Function(Q)\n",
    "p_  = Function(Q)\n"
   ]
  },
  {
   "cell_type": "code",
   "execution_count": 11,
   "metadata": {},
   "outputs": [],
   "source": [
    "# Define expressions used in variational forms\n",
    "U   = 0.5*(u_n + u)\n",
    "n   = FacetNormal(mesh)\n",
    "f   = Constant((0, 0))\n",
    "k   = Constant(dt)\n",
    "mu  = Constant(mu)\n",
    "rho = Constant(rho)"
   ]
  },
  {
   "cell_type": "code",
   "execution_count": 12,
   "metadata": {},
   "outputs": [],
   "source": [
    "# Define strain-rate tensor\n",
    "def epsilon(u):\n",
    "    return sym(nabla_grad(u))\n",
    "\n",
    "# Define stress tensor\n",
    "def sigma(u, p):\n",
    "    return 2*mu*epsilon(u) - p*Identity(len(u))"
   ]
  },
  {
   "cell_type": "code",
   "execution_count": 13,
   "metadata": {},
   "outputs": [],
   "source": [
    "# Define variational problem for step 1\n",
    "F1 = rho*dot((u - u_n) / k, v)*dx + \\\n",
    "     rho*dot(dot(u_n, nabla_grad(u_n)), v)*dx \\\n",
    "   + inner(sigma(U, p_n), epsilon(v))*dx \\\n",
    "   + dot(p_n*n, v)*ds - dot(mu*nabla_grad(U)*n, v)*ds \\\n",
    "   - dot(f, v)*dx\n",
    "a1 = lhs(F1)\n",
    "L1 = rhs(F1)\n",
    "\n",
    "# Define variational problem for step 2\n",
    "a2 = dot(nabla_grad(p), nabla_grad(q))*dx\n",
    "L2 = dot(nabla_grad(p_n), nabla_grad(q))*dx - (1/k)*div(u_)*q*dx\n",
    "\n",
    "# Define variational problem for step 3\n",
    "a3 = dot(u, v)*dx\n",
    "L3 = dot(u_, v)*dx - k*dot(nabla_grad(p_ - p_n), v)*dx\n",
    "\n"
   ]
  },
  {
   "cell_type": "code",
   "execution_count": 14,
   "metadata": {},
   "outputs": [
    {
     "data": {
      "text/plain": [
       "[None, None]"
      ]
     },
     "execution_count": 14,
     "metadata": {},
     "output_type": "execute_result"
    }
   ],
   "source": [
    "# Assemble matrices\n",
    "A1 = assemble(a1)\n",
    "A2 = assemble(a2)\n",
    "A3 = assemble(a3)\n",
    "\n",
    "# Apply boundary conditions to matrices\n",
    "[bc.apply(A1) for bc in bcu]\n",
    "[bc.apply(A2) for bc in bcp]"
   ]
  },
  {
   "cell_type": "code",
   "execution_count": 40,
   "metadata": {
    "scrolled": true
   },
   "outputs": [],
   "source": [
    "import matplotlib.pyplot as plt\n",
    "\n",
    "# Time-stepping\n",
    "t = 0\n",
    "for n in range(num_steps):\n",
    "\n",
    "    # Update current time\n",
    "    t += dt\n",
    "\n",
    "    # Step 1: Tentative velocity step\n",
    "    b1 = assemble(L1)\n",
    "    [bc.apply(b1) for bc in bcu]\n",
    "    solve(A1, u_.vector(), b1)\n",
    "\n",
    "    # Step 2: Pressure correction step\n",
    "    b2 = assemble(L2)\n",
    "    [bc.apply(b2) for bc in bcp]\n",
    "    solve(A2, p_.vector(), b2)\n",
    "\n",
    "    # Step 3: Velocity correction step\n",
    "    b3 = assemble(L3)\n",
    "    solve(A3, u_.vector(), b3)\n",
    "\n",
    "    \n",
    "\n",
    "    # Update previous solution\n",
    "    u_n.assign(u_)\n",
    "    p_n.assign(p_)\n",
    "\n",
    "#Solució analítica\n",
    "u_a = Expression(('4*x[1]*(1.0 - x[1])', '0'), degree=2)\n",
    "u_a = interpolate(u_a, V)\n",
    "\n",
    "\n"
   ]
  },
  {
   "cell_type": "code",
   "execution_count": 41,
   "metadata": {},
   "outputs": [
    {
     "data": {
      "image/png": "[encoded data removed]",
      "text/plain": [
       "<Figure size 432x288 with 1 Axes>"
      ]
     },
     "metadata": {
      "needs_background": "light"
     },
     "output_type": "display_data"
    },
    {
     "data": {
      "image/png": "[encoded data removed]",
      "text/plain": [
       "<Figure size 432x288 with 1 Axes>"
      ]
     },
     "metadata": {
      "needs_background": "light"
     },
     "output_type": "display_data"
    }
   ],
   "source": [
    "p_a = Expression(('8*(1-x[0])','0'),degree=1)\n",
    "# p_a_Q = interpolate(p_a,Q) ERROR??-----------------------------------\n",
    "\n",
    "# Plot solution    \n",
    "plot(u_)\n",
    "plt.title('Solució numèrica de la velocitat')\n",
    "plt.show()\n",
    "\n",
    "plot(p_)\n",
    "plt.title('Solució numèrica de la pressió')\n",
    "plt.show()"
   ]
  },
  {
   "cell_type": "code",
   "execution_count": 42,
   "metadata": {},
   "outputs": [
    {
     "name": "stdout",
     "output_type": "stream",
     "text": [
      "temps = 10.00 s: error = 8.76e-14\n",
      "max u: 1.0\n"
     ]
    }
   ],
   "source": [
    "    # Compute error per la velocitat\n",
    "    error = np.abs(u_a.vector().get_local() - u_.vector().get_local()).max()\n",
    "    print('temps = %.2f s: error = %.3g' % (t, error))\n",
    "    print('max u:', u_.vector().get_local().max())\n"
   ]
  },
  {
   "cell_type": "code",
   "execution_count": 43,
   "metadata": {},
   "outputs": [
    {
     "data": {
      "text/plain": [
       "Text(0.5, 1.0, 'Solució analítica de la velocitat')"
      ]
     },
     "execution_count": 43,
     "metadata": {},
     "output_type": "execute_result"
    },
    {
     "data": {
      "image/png": "[encoded data removed]",
      "text/plain": [
       "<Figure size 432x288 with 1 Axes>"
      ]
     },
     "metadata": {
      "needs_background": "light"
     },
     "output_type": "display_data"
    }
   ],
   "source": [
    "plot(u_a)\n",
    "plt.title('Solució analítica de la velocitat')\n",
    "plt.show()\n",
    "# plot(p_a)\n",
    "# plt.title('Solució analítica de la pressió') ERROR ARRASTRAT D'ABANS\n",
    "# plt.show()"
   ]
  },
  {
   "cell_type": "code",
   "execution_count": 21,
   "metadata": {},
   "outputs": [
    {
     "data": {
      "image/png": "[encoded data removed]",
      "text/plain": [
       "<Figure size 432x288 with 1 Axes>"
      ]
     },
     "metadata": {
      "needs_background": "light"
     },
     "output_type": "display_data"
    },
    {
     "ename": "TypeError",
     "evalue": "'numpy.ndarray' object is not callable",
     "output_type": "error",
     "traceback": [
      "\u001b[0;31m---------------------------------------------------------------------------\u001b[0m",
      "\u001b[0;31mTypeError\u001b[0m                                 Traceback (most recent call last)",
      "\u001b[0;32m<ipython-input-21-70353b988df1>\u001b[0m in \u001b[0;36m<module>\u001b[0;34m\u001b[0m\n\u001b[1;32m     21\u001b[0m \u001b[0;34m\u001b[0m\u001b[0m\n\u001b[1;32m     22\u001b[0m \u001b[0;32mfor\u001b[0m \u001b[0mi\u001b[0m\u001b[0;34m,\u001b[0m \u001b[0my\u001b[0m \u001b[0;32min\u001b[0m \u001b[0menumerate\u001b[0m\u001b[0;34m(\u001b[0m\u001b[0meix_y\u001b[0m\u001b[0;34m)\u001b[0m\u001b[0;34m:\u001b[0m\u001b[0;34m\u001b[0m\u001b[0;34m\u001b[0m\u001b[0m\n\u001b[0;32m---> 23\u001b[0;31m     \u001b[0mu_x_05\u001b[0m\u001b[0;34m[\u001b[0m\u001b[0mi\u001b[0m\u001b[0;34m]\u001b[0m \u001b[0;34m=\u001b[0m \u001b[0mu_num\u001b[0m\u001b[0;34m(\u001b[0m\u001b[0;36m0.5\u001b[0m\u001b[0;34m,\u001b[0m\u001b[0my\u001b[0m\u001b[0;34m)\u001b[0m\u001b[0;34m\u001b[0m\u001b[0;34m\u001b[0m\u001b[0m\n\u001b[0m\u001b[1;32m     24\u001b[0m \u001b[0;34m\u001b[0m\u001b[0m\n\u001b[1;32m     25\u001b[0m \u001b[0;34m\u001b[0m\u001b[0m\n",
      "\u001b[0;31mTypeError\u001b[0m: 'numpy.ndarray' object is not callable"
     ]
    }
   ],
   "source": [
    "# Ara voldrem representar les funcions en 1 dimensió avaluant-les en x=0.5.\n",
    "# Comencem amb la funció analítica\n",
    "eix_y = np.linspace(0, 1, 500)\n",
    "u_a_x_05 = np.zeros(500)\n",
    "\n",
    "for i, y in enumerate(eix_y):\n",
    "    u_a_x_05[i] = 4*y*(1.0 - y)\n",
    "\n",
    "    \n",
    "plt.plot(eix_y, u_a_x_05, label= 'Solució analítica')\n",
    "plt.legend()\n",
    "plt.title(\"Solució de l'equació de Poisson per y=0.5\")\n",
    "\n",
    "plt.show()\n",
    "\n",
    "# Ara amb la funció numèrica\n",
    "eix_y = np.linspace(0, 1, 500)\n",
    "u_x_05 = np.zeros(500)\n",
    "\n",
    "u_num=u_.vector().get_local() #AQUÍ ESTÀ EL PROBLEMA DE TRANSFORMAR-HO EN UN VECTOR--------------------------------------\n",
    "\n",
    "for i, y in enumerate(eix_y):\n",
    "    u_x_05[i] = u_num(0.5,y)\n",
    "\n",
    "    \n",
    "plt.plot(eix_x, u_x_05, label= 'Solució numèrica')\n",
    "plt.legend()\n",
    "plt.title(\"Solució de l'equació de Poisson per y=0.5\")\n",
    "\n",
    "plt.show()\n",
    "\n",
    "# Representem ara la diferència entre les dos funcions\n",
    "\n",
    "error_05 = np.zeros(1000)\n",
    "for i, x in enumerate(eix_y):\n",
    "    error_05[i] = u_x_05[i] - u_a_x_05(x)\n",
    "plt.plot(eix_y, error_05)\n",
    "plt.title(\"Error per y=0.5\")\n",
    "\n",
    "plt.show()\n"
   ]
  },
  {
   "cell_type": "code",
   "execution_count": 22,
   "metadata": {},
   "outputs": [
    {
     "data": {
      "image/png": "[encoded data removed]",
      "text/plain": [
       "<Figure size 432x288 with 1 Axes>"
      ]
     },
     "metadata": {
      "needs_background": "light"
     },
     "output_type": "display_data"
    }
   ],
   "source": [
    "# Provem ara quina és la influència del dt en l'error\n",
    "# _____________________________________________________________________________________________________________________________\n",
    "# dt=1\n",
    "\n",
    "T = 10.0           # temps total\n",
    "num_steps = 100    # nombre de time steps\n",
    "dt = T / num_steps # dt\n",
    "dt1=dt\n",
    "k   = Constant(dt)\n",
    "\n",
    "t = 0\n",
    "for n in range(num_steps):\n",
    "\n",
    "    # Update current time\n",
    "    t += dt\n",
    "\n",
    "    # Step 1: Tentative velocity step\n",
    "    b1 = assemble(L1)\n",
    "    [bc.apply(b1) for bc in bcu]\n",
    "    solve(A1, u_.vector(), b1)\n",
    "\n",
    "    # Step 2: Pressure correction step\n",
    "    b2 = assemble(L2)\n",
    "    [bc.apply(b2) for bc in bcp]\n",
    "    solve(A2, p_.vector(), b2)\n",
    "\n",
    "    # Step 3: Velocity correction step\n",
    "    b3 = assemble(L3)\n",
    "    solve(A3, u_.vector(), b3)\n",
    "\n",
    "    u_a = Expression(('4*x[1]*(1.0 - x[1])', '0'), degree=2)\n",
    "    u_a = interpolate(u_a, V)\n",
    "\n",
    "    # Update previous solution\n",
    "    u_n.assign(u_)\n",
    "    p_n.assign(p_)\n",
    "    \n",
    "error = np.abs(u_a.vector().get_local() - u_.vector().get_local()).max()\n",
    "E1 = error\n",
    "\n",
    "# _____________________________________________________________________________________________________________________________\n",
    "# dt=0.1\n",
    "\n",
    "T = 10.0           # temps total\n",
    "num_steps = 100    # nombre de time steps\n",
    "dt = T / num_steps\n",
    "dt2=dt \n",
    "k   = Constant(dt)\n",
    "\n",
    "t = 0\n",
    "for n in range(num_steps):\n",
    "\n",
    "    # Update current time\n",
    "    t += dt\n",
    "\n",
    "    # Step 1: Tentative velocity step\n",
    "    b1 = assemble(L1)\n",
    "    [bc.apply(b1) for bc in bcu]\n",
    "    solve(A1, u_.vector(), b1)\n",
    "\n",
    "    # Step 2: Pressure correction step\n",
    "    b2 = assemble(L2)\n",
    "    [bc.apply(b2) for bc in bcp]\n",
    "    solve(A2, p_.vector(), b2)\n",
    "\n",
    "    # Step 3: Velocity correction step\n",
    "    b3 = assemble(L3)\n",
    "    solve(A3, u_.vector(), b3)\n",
    "\n",
    "    u_a = Expression(('4*x[1]*(1.0 - x[1])', '0'), degree=2)\n",
    "    u_a = interpolate(u_a, V)\n",
    "\n",
    "    # Update previous solution\n",
    "    u_n.assign(u_)\n",
    "    p_n.assign(p_)\n",
    "    \n",
    "error = np.abs(u_a.vector().get_local() - u_.vector().get_local()).max()\n",
    "E1 = error\n",
    "\n",
    "# _____________________________________________________________________________________________________________________________\n",
    "# dt=0.05\n",
    "\n",
    "T = 10.0           # temps total\n",
    "num_steps = 200    # nombre de time steps\n",
    "dt = T / num_steps # dt\n",
    "k   = Constant(dt)\n",
    "\n",
    "t = 0\n",
    "for n in range(num_steps):\n",
    "\n",
    "    # Update current time\n",
    "    t += dt\n",
    "\n",
    "    # Step 1: Tentative velocity step\n",
    "    b1 = assemble(L1)\n",
    "    [bc.apply(b1) for bc in bcu]\n",
    "    solve(A1, u_.vector(), b1)\n",
    "\n",
    "    # Step 2: Pressure correction step\n",
    "    b2 = assemble(L2)\n",
    "    [bc.apply(b2) for bc in bcp]\n",
    "    solve(A2, p_.vector(), b2)\n",
    "\n",
    "    # Step 3: Velocity correction step\n",
    "    b3 = assemble(L3)\n",
    "    solve(A3, u_.vector(), b3)\n",
    "\n",
    "    u_a = Expression(('4*x[1]*(1.0 - x[1])', '0'), degree=2)\n",
    "    u_a = interpolate(u_a, V)\n",
    "\n",
    "    # Update previous solution\n",
    "    u_n.assign(u_)\n",
    "    p_n.assign(p_)\n",
    "    \n",
    "error = np.abs(u_a.vector().get_local() - u_.vector().get_local()).max()\n",
    "E2 = error\n",
    "\n",
    "# _____________________________________________________________________________________________________________________________\n",
    "# dt=0.02\n",
    "\n",
    "T = 10.0           # temps total\n",
    "num_steps = 500    # nombre de time steps\n",
    "dt = T / num_steps # dt\n",
    "dt3=dt\n",
    "k   = Constant(dt)\n",
    "\n",
    "t = 0\n",
    "for n in range(num_steps):\n",
    "\n",
    "    # Update current time\n",
    "    t += dt\n",
    "\n",
    "    # Step 1: Tentative velocity step\n",
    "    b1 = assemble(L1)\n",
    "    [bc.apply(b1) for bc in bcu]\n",
    "    solve(A1, u_.vector(), b1)\n",
    "\n",
    "    # Step 2: Pressure correction step\n",
    "    b2 = assemble(L2)\n",
    "    [bc.apply(b2) for bc in bcp]\n",
    "    solve(A2, p_.vector(), b2)\n",
    "\n",
    "    # Step 3: Velocity correction step\n",
    "    b3 = assemble(L3)\n",
    "    solve(A3, u_.vector(), b3)\n",
    "\n",
    "    u_a = Expression(('4*x[1]*(1.0 - x[1])', '0'), degree=2)\n",
    "    u_a = interpolate(u_a, V)\n",
    "\n",
    "    # Update previous solution\n",
    "    u_n.assign(u_)\n",
    "    p_n.assign(p_)\n",
    "    \n",
    "error = np.abs(u_a.vector().get_local() - u_.vector().get_local()).max()\n",
    "E3 = error\n",
    "# _____________________________________________________________________________________________________________________________\n",
    "# dt=0.01\n",
    "\n",
    "T = 10.0           # temps total\n",
    "num_steps = 1000    # nombre de time steps\n",
    "dt = T / num_steps # dt\n",
    "dt4=dt\n",
    "k   = Constant(dt)\n",
    "\n",
    "t = 0\n",
    "for n in range(num_steps):\n",
    "\n",
    "    # Update current time\n",
    "    t += dt\n",
    "\n",
    "    # Step 1: Tentative velocity step\n",
    "    b1 = assemble(L1)\n",
    "    [bc.apply(b1) for bc in bcu]\n",
    "    solve(A1, u_.vector(), b1)\n",
    "\n",
    "    # Step 2: Pressure correction step\n",
    "    b2 = assemble(L2)\n",
    "    [bc.apply(b2) for bc in bcp]\n",
    "    solve(A2, p_.vector(), b2)\n",
    "\n",
    "    # Step 3: Velocity correction step\n",
    "    b3 = assemble(L3)\n",
    "    solve(A3, u_.vector(), b3)\n",
    "\n",
    "    u_a = Expression(('4*x[1]*(1.0 - x[1])', '0'), degree=2)\n",
    "    u_a = interpolate(u_a, V)\n",
    "\n",
    "    # Update previous solution\n",
    "    u_n.assign(u_)\n",
    "    p_n.assign(p_)\n",
    "    \n",
    "error = np.abs(u_a.vector().get_local() - u_.vector().get_local()).max()\n",
    "E4 = error\n",
    "\n",
    "# _____________________________________________________________________________________________________________________________\n",
    "\n",
    "N=[dt1,dt2,dt3,dt4]\n",
    "E=[E1,E2,E3,E4]\n",
    "\n",
    "plt.plot(N,E)\n",
    "plt.show()\n",
    "\n",
    "\n",
    "\n",
    "\n"
   ]
  },
  {
   "cell_type": "code",
   "execution_count": null,
   "metadata": {},
   "outputs": [],
   "source": []
  }
 ],
 "metadata": {
  "kernelspec": {
   "display_name": "Python 3",
   "language": "python",
   "name": "python3"
  },
  "language_info": {
   "codemirror_mode": {
    "name": "ipython",
    "version": 3
   },
   "file_extension": ".py",
   "mimetype": "text/x-python",
   "name": "python",
   "nbconvert_exporter": "python",
   "pygments_lexer": "ipython3",
   "version": "3.6.9"
  }
 },
 "nbformat": 4,
 "nbformat_minor": 4
}
