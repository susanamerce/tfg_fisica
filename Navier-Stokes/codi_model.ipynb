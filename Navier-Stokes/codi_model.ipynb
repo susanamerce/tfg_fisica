{
 "cells": [
  {
   "cell_type": "code",
   "execution_count": 88,
   "metadata": {},
   "outputs": [],
   "source": [
    "from __future__ import print_function\n",
    "from dolfin import *\n",
    "import numpy as np\n",
    "\n",
    "\n",
    "#dubtes i coses a revisar:\n",
    "# a l'hora de normalitzar, cal normalitzar gradB? o fent f/f0 ja queda normalitzat??\n",
    "# revisar tmb el grau de grad B, cal normalitzar amb br tmb??\n",
    "# fer mesh no uniforme"
   ]
  },
  {
   "cell_type": "code",
   "execution_count": 109,
   "metadata": {},
   "outputs": [],
   "source": [
    "# Variables:\n",
    "T = 10.0      # temps total\n",
    "num_steps = 100     # nombre de time steps\n",
    "dt = T / num_steps            # dt\n",
    "k = Constant(dt)\n",
    "\n",
    "mu = Constant(0.000852)  # viscositat\n",
    "rho = Constant(1)             # densitat\n",
    "\n",
    "c0 = Constant(3.4*pow(10,-9)) #concentració incial\n",
    "Ms = Constant(42.7)           #magnetització de saturació\n",
    "dyB = Constant(95.74)         #valor absolut màxim del gradient de B (T/m)\n",
    "\n",
    "hi = 0.015          #alçada de l'imant (m)\n",
    "r = 0.007           #radi de l'imant (m)\n",
    "Br = 1.45           #flux magnetic romanent (T)\n",
    "\n",
    "#Normalització\n",
    "l0 = Constant(0.01)           #longitud característica (m)\n",
    "b = Constant(1)               #base de la cubeta/l0\n",
    "h = Constant(3)               #altura de la cubeta/l0\n",
    "f0 = c0*Ms*dyB                #força màxima?          \n",
    "p0 = f0*l0                    #pressió característica\n",
    "u0 = sqrt(f0*l0/rho)          #velocitat característica\n",
    "t0 = l0/u0                    #temps característica\n",
    "Re = rho*l0*u0/(2*mu)         #nombre de Reynolds\n",
    "\n",
    "\n",
    "\n"
   ]
  },
  {
   "cell_type": "code",
   "execution_count": 100,
   "metadata": {},
   "outputs": [
    {
     "data": {
      "image/png": "[encoded data removed]",
      "text/plain": [
       "<Figure size 432x288 with 1 Axes>"
      ]
     },
     "metadata": {
      "needs_background": "light"
     },
     "output_type": "display_data"
    }
   ],
   "source": [
    "# Mallat uniforme\n",
    "mesh=RectangleMesh(Point(0, 0), Point(b, h), 5, 15)\n",
    "plot(mesh)\n",
    "\n",
    "# Mallat no uniforme\n",
    "\n",
    "V = VectorFunctionSpace(mesh, 'P', 2) # espai per la velocitat\n",
    "Q = FunctionSpace(mesh, 'P', 1)       # espai per la pressió"
   ]
  },
  {
   "cell_type": "code",
   "execution_count": 101,
   "metadata": {},
   "outputs": [],
   "source": [
    "# Definim les condicions de contorn\n",
    "base  = 'near(x[1], 0) || near(x[0], 3)' \n",
    "paret   = 'near(x[0], 0) || near(x[0], 1)'\n",
    "\n",
    "\n",
    "def boundary(x):\n",
    "    return x[0] < DOLFIN_EPS or x[0] > 1.0 - DOLFIN_EPS\n",
    "\n",
    "#velocitat\n",
    "bcu_base  = DirichletBC(V, Constant((0, 0)), base)\n",
    "bcu_paret  = DirichletBC(V, Constant((0, 0)), paret)\n",
    "#pressió\n",
    "bcp_base  = DirichletBC(Q,  101325 , base) \n",
    "bcp_paret  = DirichletBC(Q,  101325, paret) \n",
    "\n",
    "bcu = [bcu_base, bcu_paret] \n",
    "bcp = [bcp_base, bcp_paret]"
   ]
  },
  {
   "cell_type": "code",
   "execution_count": 102,
   "metadata": {},
   "outputs": [],
   "source": [
    "# Define trial and test functions\n",
    "#velocitat\n",
    "u = TrialFunction(V)\n",
    "v = TestFunction(V)\n",
    "#pressió\n",
    "p = TrialFunction(Q)\n",
    "q = TestFunction(Q)\n",
    "\n",
    "# Define functions for solutions at previous and current time steps\n",
    "u_n = Function(V)\n",
    "u_  = Function(V)\n",
    "p_n = Function(Q)\n",
    "p_  = Function(Q)\n"
   ]
  },
  {
   "cell_type": "code",
   "execution_count": 103,
   "metadata": {},
   "outputs": [
    {
     "name": "stdout",
     "output_type": "stream",
     "text": [
      "-95.73878719713858\n"
     ]
    }
   ],
   "source": [
    "# càlcul del gradB_max\n",
    "\n",
    "y_0=0\n",
    "delta_B=((Br*r**2)/2)*((pow((y_0+hi)**2+r**2,-3/2))-(pow(y_0**2+r**2,-3/2)))\n",
    "print(delta_B)"
   ]
  },
  {
   "cell_type": "code",
   "execution_count": 104,
   "metadata": {},
   "outputs": [],
   "source": [
    "# Define expressions used in variational forms\n",
    "gradB = Expression(('((1.45*0.007*0.007)/2)*((pow((x[1]+1.5)*(x[1]+1.5)+0.007*0.007,-3/2))-(pow(x[1]*x[1]+0.007*0.007,-3/2)))/95.74'), degree=2)\n",
    "M   = Constant([0,1])\n",
    "c   = Constant(1)\n",
    "U   = 0.5*(u_n + u)\n",
    "n   = FacetNormal(mesh)\n",
    "f   = c*M*gradB\n",
    "\n",
    "# Define strain-rate tensor\n",
    "def epsilon(u):\n",
    "    return sym(nabla_grad(u))\n",
    "\n",
    "# Define stress tensor\n",
    "def sigma(u, p):\n",
    "    return epsilon(u)/Re - p*Identity(len(u))"
   ]
  },
  {
   "cell_type": "code",
   "execution_count": 105,
   "metadata": {},
   "outputs": [],
   "source": [
    "# Define variational problem for step 1\n",
    "F1 = dot((u - u_n) / k, v)*dx + \\\n",
    "     dot(dot(u_n, nabla_grad(u_n)), v)*dx \\\n",
    "   + inner(sigma(U, p_n), epsilon(v))*dx \\\n",
    "   + dot(p_n*n, v)*ds - dot(mu*nabla_grad(U)*n, v)*ds \\\n",
    "   - dot(f, v)*dx\n",
    "a1 = lhs(F1)\n",
    "L1 = rhs(F1)\n",
    "\n",
    "# Define variational problem for step 2\n",
    "a2 = dot(nabla_grad(p), nabla_grad(q))*dx\n",
    "L2 = dot(nabla_grad(p_n), nabla_grad(q))*dx - (1/k)*div(u_)*q*dx\n",
    "\n",
    "# Define variational problem for step 3\n",
    "a3 = dot(u, v)*dx\n",
    "L3 = dot(u_, v)*dx - k*dot(nabla_grad(p_ - p_n), v)*dx\n",
    "\n"
   ]
  },
  {
   "cell_type": "code",
   "execution_count": 106,
   "metadata": {},
   "outputs": [
    {
     "name": "stdout",
     "output_type": "stream",
     "text": [
      "Calling FFC just-in-time (JIT) compiler, this may take some time.\n"
     ]
    },
    {
     "data": {
      "text/plain": [
       "[None, None]"
      ]
     },
     "execution_count": 106,
     "metadata": {},
     "output_type": "execute_result"
    }
   ],
   "source": [
    "# Assemble matrices\n",
    "A1 = assemble(a1)\n",
    "A2 = assemble(a2)\n",
    "A3 = assemble(a3)\n",
    "\n",
    "# Apply boundary conditions to matrices\n",
    "[bc.apply(A1) for bc in bcu]\n",
    "[bc.apply(A2) for bc in bcp]"
   ]
  },
  {
   "cell_type": "code",
   "execution_count": 110,
   "metadata": {},
   "outputs": [
    {
     "name": "stdout",
     "output_type": "stream",
     "text": [
      "Calling FFC just-in-time (JIT) compiler, this may take some time.\n",
      "Calling FFC just-in-time (JIT) compiler, this may take some time.\n",
      "Calling FFC just-in-time (JIT) compiler, this may take some time.\n"
     ]
    }
   ],
   "source": [
    "import matplotlib.pyplot as plt\n",
    "\n",
    "# Time-stepping\n",
    "t = 0\n",
    "for n in range(num_steps):\n",
    "\n",
    "    # Update current time\n",
    "    t += dt\n",
    "\n",
    "    # Step 1: Tentative velocity step\n",
    "    b1 = assemble(L1)\n",
    "    [bc.apply(b1) for bc in bcu]\n",
    "    solve(A1, u_.vector(), b1)\n",
    "\n",
    "    # Step 2: Pressure correction step\n",
    "    b2 = assemble(L2)\n",
    "    [bc.apply(b2) for bc in bcp]\n",
    "    solve(A2, p_.vector(), b2)\n",
    "\n",
    "    # Step 3: Velocity correction step\n",
    "    b3 = assemble(L3)\n",
    "    solve(A3, u_.vector(), b3)\n",
    "\n",
    "    \n",
    "\n",
    "    # Update previous solution\n",
    "    u_n.assign(u_)\n",
    "    p_n.assign(p_)\n",
    "\n",
    "\n",
    "\n",
    "\n"
   ]
  },
  {
   "cell_type": "code",
   "execution_count": 111,
   "metadata": {},
   "outputs": [
    {
     "data": {
      "image/png": "[encoded data removed]",
      "text/plain": [
       "<Figure size 432x288 with 2 Axes>"
      ]
     },
     "metadata": {
      "needs_background": "light"
     },
     "output_type": "display_data"
    },
    {
     "data": {
      "image/png": "[encoded data removed]",
      "text/plain": [
       "<Figure size 432x288 with 2 Axes>"
      ]
     },
     "metadata": {
      "needs_background": "light"
     },
     "output_type": "display_data"
    }
   ],
   "source": [
    "# Plot solution    \n",
    "plot(u_)\n",
    "\n",
    "c=plot(u_)\n",
    "plt.colorbar(c)\n",
    "plt.show()\n",
    "\n",
    "c_=plot(p_)\n",
    "plt.colorbar(c_)\n",
    "plt.show()"
   ]
  },
  {
   "cell_type": "code",
   "execution_count": null,
   "metadata": {},
   "outputs": [],
   "source": []
  },
  {
   "cell_type": "code",
   "execution_count": null,
   "metadata": {},
   "outputs": [],
   "source": []
  }
 ],
 "metadata": {
  "kernelspec": {
   "display_name": "Python 3",
   "language": "python",
   "name": "python3"
  },
  "language_info": {
   "codemirror_mode": {
    "name": "ipython",
    "version": 3
   },
   "file_extension": ".py",
   "mimetype": "text/x-python",
   "name": "python",
   "nbconvert_exporter": "python",
   "pygments_lexer": "ipython3",
   "version": "3.6.9"
  }
 },
 "nbformat": 4,
 "nbformat_minor": 4
}
