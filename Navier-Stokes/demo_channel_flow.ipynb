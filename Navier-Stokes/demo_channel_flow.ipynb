{
 "cells": [
  {
   "cell_type": "code",
   "execution_count": 22,
   "metadata": {},
   "outputs": [],
   "source": [
    "from __future__ import print_function\n",
    "from dolfin import *\n",
    "import numpy as np"
   ]
  },
  {
   "cell_type": "code",
   "execution_count": 23,
   "metadata": {},
   "outputs": [],
   "source": [
    "# Partim de l'equació de Navier-Stokes escalada: \\delta u / \\delta t + Re · u · \\nabla u = - \\nabla u + \\nabla ^2 u\n",
    "# i de \\nabla · u = 0\n",
    "\n",
    "# u = (ux,0) --> \\delta u /\\delta x = 0 , per tant ux=ux(y)\n",
    "\n",
    "# Aplicant això obtenim que p(x) = 8(1-x) i ux=4y(1-y)\n",
    "\n",
    "\n"
   ]
  },
  {
   "cell_type": "code",
   "execution_count": 24,
   "metadata": {},
   "outputs": [],
   "source": [
    "# Variables:\n",
    "\n",
    "T = 10.0           # temps total\n",
    "num_steps = 500    # nombre de time steps\n",
    "dt = T / num_steps # dt\n",
    "mu = 1             # viscositat\n",
    "rho = 1            # densitat"
   ]
  },
  {
   "cell_type": "code",
   "execution_count": 60,
   "metadata": {},
   "outputs": [],
   "source": [
    "# Create mesh and define function spaces\n",
    "N=10\n",
    "mesh = UnitSquareMesh(N, N)\n",
    "V = VectorFunctionSpace(mesh, 'P', 2) # espai per la velocitat\n",
    "Q = FunctionSpace(mesh, 'P', 1)       # espai per la pressió"
   ]
  },
  {
   "cell_type": "code",
   "execution_count": 61,
   "metadata": {},
   "outputs": [],
   "source": [
    "def boundary(x):\n",
    "    return x[0] < DOLFIN_EPS or x[0] > 1.0 - DOLFIN_EPS"
   ]
  },
  {
   "cell_type": "code",
   "execution_count": 62,
   "metadata": {},
   "outputs": [],
   "source": [
    "# Definim els contorns\n",
    "\n",
    "inflow  = 'near(x[0], 0)' \n",
    "outflow = 'near(x[0], 1)'\n",
    "walls   = 'near(x[1], 0) || near(x[1], 1)'"
   ]
  },
  {
   "cell_type": "code",
   "execution_count": 63,
   "metadata": {},
   "outputs": [],
   "source": [
    "# Define boundary conditions\n",
    "bcu_noslip  = DirichletBC(V, Constant((0, 0)), walls)\n",
    "bcp_inflow  = DirichletBC(Q, Constant(8), inflow) # quan x=0 p=8\n",
    "bcp_outflow = DirichletBC(Q, Constant(0), outflow) # quan x=1 p=0\n",
    "bcu = [bcu_noslip] \n",
    "bcp = [bcp_inflow, bcp_outflow]"
   ]
  },
  {
   "cell_type": "code",
   "execution_count": 64,
   "metadata": {},
   "outputs": [],
   "source": [
    "# Define trial and test functions\n",
    "u = TrialFunction(V)\n",
    "v = TestFunction(V)\n",
    "p = TrialFunction(Q)\n",
    "q = TestFunction(Q)"
   ]
  },
  {
   "cell_type": "code",
   "execution_count": 65,
   "metadata": {},
   "outputs": [],
   "source": [
    "# Define functions for solutions at previous and current time steps\n",
    "u_n = Function(V)\n",
    "u_  = Function(V)\n",
    "p_n = Function(Q)\n",
    "p_  = Function(Q)\n"
   ]
  },
  {
   "cell_type": "code",
   "execution_count": 66,
   "metadata": {},
   "outputs": [],
   "source": [
    "# Define expressions used in variational forms\n",
    "U   = 0.5*(u_n + u)\n",
    "n   = FacetNormal(mesh)\n",
    "f   = Constant((0, 0))\n",
    "k   = Constant(dt)\n",
    "mu  = Constant(mu)\n",
    "rho = Constant(rho)"
   ]
  },
  {
   "cell_type": "code",
   "execution_count": 67,
   "metadata": {},
   "outputs": [],
   "source": [
    "# Define strain-rate tensor\n",
    "def epsilon(u):\n",
    "    return sym(nabla_grad(u))\n",
    "\n",
    "# Define stress tensor\n",
    "def sigma(u, p):\n",
    "    return 2*mu*epsilon(u) - p*Identity(len(u))"
   ]
  },
  {
   "cell_type": "code",
   "execution_count": 68,
   "metadata": {},
   "outputs": [],
   "source": [
    "# Define variational problem for step 1\n",
    "F1 = rho*dot((u - u_n) / k, v)*dx + \\\n",
    "     rho*dot(dot(u_n, nabla_grad(u_n)), v)*dx \\\n",
    "   + inner(sigma(U, p_n), epsilon(v))*dx \\\n",
    "   + dot(p_n*n, v)*ds - dot(mu*nabla_grad(U)*n, v)*ds \\\n",
    "   - dot(f, v)*dx\n",
    "a1 = lhs(F1)\n",
    "L1 = rhs(F1)\n",
    "\n",
    "# Define variational problem for step 2\n",
    "a2 = dot(nabla_grad(p), nabla_grad(q))*dx\n",
    "L2 = dot(nabla_grad(p_n), nabla_grad(q))*dx - (1/k)*div(u_)*q*dx\n",
    "\n",
    "# Define variational problem for step 3\n",
    "a3 = dot(u, v)*dx\n",
    "L3 = dot(u_, v)*dx - k*dot(nabla_grad(p_ - p_n), v)*dx\n",
    "\n"
   ]
  },
  {
   "cell_type": "code",
   "execution_count": 69,
   "metadata": {},
   "outputs": [
    {
     "data": {
      "text/plain": [
       "[None, None]"
      ]
     },
     "execution_count": 69,
     "metadata": {},
     "output_type": "execute_result"
    }
   ],
   "source": [
    "# Assemble matrices\n",
    "A1 = assemble(a1)\n",
    "A2 = assemble(a2)\n",
    "A3 = assemble(a3)\n",
    "\n",
    "# Apply boundary conditions to matrices\n",
    "[bc.apply(A1) for bc in bcu]\n",
    "[bc.apply(A2) for bc in bcp]"
   ]
  },
  {
   "cell_type": "code",
   "execution_count": 70,
   "metadata": {
    "scrolled": true
   },
   "outputs": [],
   "source": [
    "import matplotlib.pyplot as plt\n",
    "\n",
    "# Time-stepping\n",
    "t = 0\n",
    "for n in range(num_steps):\n",
    "\n",
    "    # Update current time\n",
    "    t += dt\n",
    "\n",
    "    # Step 1: Tentative velocity step\n",
    "    b1 = assemble(L1)\n",
    "    [bc.apply(b1) for bc in bcu]\n",
    "    solve(A1, u_.vector(), b1)\n",
    "\n",
    "    # Step 2: Pressure correction step\n",
    "    b2 = assemble(L2)\n",
    "    [bc.apply(b2) for bc in bcp]\n",
    "    solve(A2, p_.vector(), b2)\n",
    "\n",
    "    # Step 3: Velocity correction step\n",
    "    b3 = assemble(L3)\n",
    "    solve(A3, u_.vector(), b3)\n",
    "\n",
    "    \n",
    "\n",
    "    # Update previous solution\n",
    "    u_n.assign(u_)\n",
    "    p_n.assign(p_)\n",
    "\n",
    "\n",
    "\n",
    "\n"
   ]
  },
  {
   "cell_type": "code",
   "execution_count": 71,
   "metadata": {},
   "outputs": [
    {
     "data": {
      "image/png": "[encoded data removed]",
      "text/plain": [
       "<Figure size 432x288 with 1 Axes>"
      ]
     },
     "metadata": {
      "needs_background": "light"
     },
     "output_type": "display_data"
    },
    {
     "data": {
      "image/png": "[encoded data removed]",
      "text/plain": [
       "<Figure size 432x288 with 1 Axes>"
      ]
     },
     "metadata": {
      "needs_background": "light"
     },
     "output_type": "display_data"
    }
   ],
   "source": [
    "# Plot solution    \n",
    "plot(u_)\n",
    "plt.title('Solució numèrica de la velocitat')\n",
    "plt.show()\n",
    "\n",
    "plot(p_)\n",
    "plt.title('Solució numèrica de la pressió')\n",
    "plt.show()"
   ]
  },
  {
   "cell_type": "code",
   "execution_count": 72,
   "metadata": {},
   "outputs": [],
   "source": [
    "# Guardem la solució\n",
    "file = File(\"channel_flow_matriu_valors.pvd\")\n",
    "file << u_"
   ]
  },
  {
   "cell_type": "code",
   "execution_count": 74,
   "metadata": {
    "scrolled": true
   },
   "outputs": [
    {
     "data": {
      "image/png": "[encoded data removed]",
      "text/plain": [
       "<Figure size 432x288 with 1 Axes>"
      ]
     },
     "metadata": {
      "needs_background": "light"
     },
     "output_type": "display_data"
    },
    {
     "data": {
      "image/png": "[encoded data removed]",
      "text/plain": [
       "<Figure size 432x288 with 1 Axes>"
      ]
     },
     "metadata": {
      "needs_background": "light"
     },
     "output_type": "display_data"
    }
   ],
   "source": [
    "# Plot de la solució analítica\n",
    "u_a = Expression(('4*x[1]*(1.0 - x[1])', '0'), degree=2)\n",
    "u_a = interpolate(u_a, V)\n",
    "plot(u_a)\n",
    "plt.title('Solució analítica de la velocitat')\n",
    "plt.show()\n",
    "\n",
    "p_a = Expression((\"8*(1-x[0])\"),degree=1)\n",
    "Q2 = FunctionSpace(mesh, \"Lagrange\", 1)  \n",
    "p_a_Q= interpolate(p_a,Q2) \n",
    "plot(p_a_Q)\n",
    "plt.title('Solució analítica de la pressió') \n",
    "plt.show()\n"
   ]
  },
  {
   "cell_type": "code",
   "execution_count": 76,
   "metadata": {},
   "outputs": [
    {
     "name": "stdout",
     "output_type": "stream",
     "text": [
      "Per la velocitat:\n",
      "error màxim = 3.41e-07\n",
      "error global= 5.79e-08\n",
      "Per la pressió:\n",
      "error màxim = 1.5e-07\n",
      "error global= 1.31e-08\n"
     ]
    }
   ],
   "source": [
    "# Error per la velocitat\n",
    "\n",
    "print('Per la velocitat:')\n",
    "#Error màxim\n",
    "e_max = np.abs(u_a.vector().get_local() - u_.vector().get_local()).max()\n",
    "#Error global\n",
    "error = (u_-u_a)**2*dx #error a cada punt de l'àrea\n",
    "e_mitj = sqrt(assemble(error))\n",
    "\n",
    "print('error màxim = %.3g' % (e_max))\n",
    "print('error global= %.3g' % (e_mitj))\n",
    "\n",
    "# Error per la pressió\n",
    "print('Per la pressió:')\n",
    "p_Q2=interpolate(p_,Q2)\n",
    "#Error màxim\n",
    "e_max = np.abs(p_a_Q.vector().get_local() - p_Q2.vector().get_local()).max()\n",
    "#Error global\n",
    "error = (p_-p_a_Q)**2*dx #error a cada punt de l'àrea\n",
    "e_mitj = sqrt(assemble(error))\n",
    "\n",
    "print('error màxim = %.3g' % (e_max))\n",
    "print('error global= %.3g' % (e_mitj))\n"
   ]
  },
  {
   "cell_type": "code",
   "execution_count": 101,
   "metadata": {},
   "outputs": [
    {
     "data": {
      "image/png": "[encoded data removed]",
      "text/plain": [
       "<Figure size 432x288 with 1 Axes>"
      ]
     },
     "metadata": {
      "needs_background": "light"
     },
     "output_type": "display_data"
    },
    {
     "data": {
      "image/png": "[encoded data removed]",
      "text/plain": [
       "<Figure size 432x288 with 1 Axes>"
      ]
     },
     "metadata": {
      "needs_background": "light"
     },
     "output_type": "display_data"
    }
   ],
   "source": [
    "# Ara voldrem representar les funcions en 1 dimensió avaluant-les en x=0.5.\n",
    "\n",
    "# Funció numèrica\n",
    "eix_y = np.linspace(0, 1, N+1)\n",
    "e0 = [0,0,0]\n",
    "u_x_05=[]\n",
    "\n",
    "for i, y in enumerate(eix_y):\n",
    "    u_x_05.append(e0)\n",
    "    u_x_05[i] = u_(0.5,y)\n",
    "\n",
    "u_x_05_m = []\n",
    "for i, y in enumerate(eix_y):\n",
    "    modul = np.linalg.norm(u_x_05[i])\n",
    "    u_x_05_m.append(modul)\n",
    "\n",
    "    \n",
    "plt.plot(eix_x, u_x_05_m, label= 'Solució numèrica')\n",
    "plt.legend()\n",
    "plt.title(\"Solució per x=0.5\")\n",
    "\n",
    "\n",
    "\n",
    "\n",
    "# Solució analítica\n",
    "u_a_x_05 = []\n",
    "for i, y in enumerate(eix_y):\n",
    "    ua = 4*y*(1.0 - y)\n",
    "    u_a_x_05.append(ua)\n",
    "    \n",
    "plt.plot(eix_y, u_a_x_05, label= 'Solució analítica')\n",
    "plt.legend()\n",
    "plt.title(\"Solució per x=0.5\")\n",
    "\n",
    "plt.show()\n",
    "# Representem ara la diferència entre les dos funcions\n",
    "\n",
    "error_05 = []\n",
    "for i, y in enumerate(eix_y):\n",
    "    e = np.abs(u_a_x_05[i]-u_x_05_m[i] )\n",
    "    error_05.append(e)\n",
    "plt.plot(eix_y, error_05)\n",
    "plt.title(\"Error per x=0.5\")\n",
    "\n",
    "plt.show()\n"
   ]
  },
  {
   "cell_type": "code",
   "execution_count": 22,
   "metadata": {},
   "outputs": [
    {
     "data": {
      "image/png": "[encoded data removed]",
      "text/plain": [
       "<Figure size 432x288 with 1 Axes>"
      ]
     },
     "metadata": {
      "needs_background": "light"
     },
     "output_type": "display_data"
    }
   ],
   "source": [
    "# Provem ara quina és la influència del dt en l'error\n",
    "# _____________________________________________________________________________________________________________________________\n",
    "# dt=1\n",
    "\n",
    "T = 10.0           # temps total\n",
    "num_steps = 100    # nombre de time steps\n",
    "dt = T / num_steps # dt\n",
    "dt1=dt\n",
    "k   = Constant(dt)\n",
    "\n",
    "t = 0\n",
    "for n in range(num_steps):\n",
    "\n",
    "    # Update current time\n",
    "    t += dt\n",
    "\n",
    "    # Step 1: Tentative velocity step\n",
    "    b1 = assemble(L1)\n",
    "    [bc.apply(b1) for bc in bcu]\n",
    "    solve(A1, u_.vector(), b1)\n",
    "\n",
    "    # Step 2: Pressure correction step\n",
    "    b2 = assemble(L2)\n",
    "    [bc.apply(b2) for bc in bcp]\n",
    "    solve(A2, p_.vector(), b2)\n",
    "\n",
    "    # Step 3: Velocity correction step\n",
    "    b3 = assemble(L3)\n",
    "    solve(A3, u_.vector(), b3)\n",
    "\n",
    "    u_a = Expression(('4*x[1]*(1.0 - x[1])', '0'), degree=2)\n",
    "    u_a = interpolate(u_a, V)\n",
    "\n",
    "    # Update previous solution\n",
    "    u_n.assign(u_)\n",
    "    p_n.assign(p_)\n",
    "    \n",
    "error = np.abs(u_a.vector().get_local() - u_.vector().get_local()).max()\n",
    "E1 = error\n",
    "\n",
    "# _____________________________________________________________________________________________________________________________\n",
    "# dt=0.1\n",
    "\n",
    "T = 10.0           # temps total\n",
    "num_steps = 100    # nombre de time steps\n",
    "dt = T / num_steps\n",
    "dt2=dt \n",
    "k   = Constant(dt)\n",
    "\n",
    "t = 0\n",
    "for n in range(num_steps):\n",
    "\n",
    "    # Update current time\n",
    "    t += dt\n",
    "\n",
    "    # Step 1: Tentative velocity step\n",
    "    b1 = assemble(L1)\n",
    "    [bc.apply(b1) for bc in bcu]\n",
    "    solve(A1, u_.vector(), b1)\n",
    "\n",
    "    # Step 2: Pressure correction step\n",
    "    b2 = assemble(L2)\n",
    "    [bc.apply(b2) for bc in bcp]\n",
    "    solve(A2, p_.vector(), b2)\n",
    "\n",
    "    # Step 3: Velocity correction step\n",
    "    b3 = assemble(L3)\n",
    "    solve(A3, u_.vector(), b3)\n",
    "\n",
    "    u_a = Expression(('4*x[1]*(1.0 - x[1])', '0'), degree=2)\n",
    "    u_a = interpolate(u_a, V)\n",
    "\n",
    "    # Update previous solution\n",
    "    u_n.assign(u_)\n",
    "    p_n.assign(p_)\n",
    "    \n",
    "error = np.abs(u_a.vector().get_local() - u_.vector().get_local()).max()\n",
    "E1 = error\n",
    "\n",
    "# _____________________________________________________________________________________________________________________________\n",
    "# dt=0.05\n",
    "\n",
    "T = 10.0           # temps total\n",
    "num_steps = 200    # nombre de time steps\n",
    "dt = T / num_steps # dt\n",
    "k   = Constant(dt)\n",
    "\n",
    "t = 0\n",
    "for n in range(num_steps):\n",
    "\n",
    "    # Update current time\n",
    "    t += dt\n",
    "\n",
    "    # Step 1: Tentative velocity step\n",
    "    b1 = assemble(L1)\n",
    "    [bc.apply(b1) for bc in bcu]\n",
    "    solve(A1, u_.vector(), b1)\n",
    "\n",
    "    # Step 2: Pressure correction step\n",
    "    b2 = assemble(L2)\n",
    "    [bc.apply(b2) for bc in bcp]\n",
    "    solve(A2, p_.vector(), b2)\n",
    "\n",
    "    # Step 3: Velocity correction step\n",
    "    b3 = assemble(L3)\n",
    "    solve(A3, u_.vector(), b3)\n",
    "\n",
    "    u_a = Expression(('4*x[1]*(1.0 - x[1])', '0'), degree=2)\n",
    "    u_a = interpolate(u_a, V)\n",
    "\n",
    "    # Update previous solution\n",
    "    u_n.assign(u_)\n",
    "    p_n.assign(p_)\n",
    "    \n",
    "error = np.abs(u_a.vector().get_local() - u_.vector().get_local()).max()\n",
    "E2 = error\n",
    "\n",
    "# _____________________________________________________________________________________________________________________________\n",
    "# dt=0.02\n",
    "\n",
    "T = 10.0           # temps total\n",
    "num_steps = 500    # nombre de time steps\n",
    "dt = T / num_steps # dt\n",
    "dt3=dt\n",
    "k   = Constant(dt)\n",
    "\n",
    "t = 0\n",
    "for n in range(num_steps):\n",
    "\n",
    "    # Update current time\n",
    "    t += dt\n",
    "\n",
    "    # Step 1: Tentative velocity step\n",
    "    b1 = assemble(L1)\n",
    "    [bc.apply(b1) for bc in bcu]\n",
    "    solve(A1, u_.vector(), b1)\n",
    "\n",
    "    # Step 2: Pressure correction step\n",
    "    b2 = assemble(L2)\n",
    "    [bc.apply(b2) for bc in bcp]\n",
    "    solve(A2, p_.vector(), b2)\n",
    "\n",
    "    # Step 3: Velocity correction step\n",
    "    b3 = assemble(L3)\n",
    "    solve(A3, u_.vector(), b3)\n",
    "\n",
    "    u_a = Expression(('4*x[1]*(1.0 - x[1])', '0'), degree=2)\n",
    "    u_a = interpolate(u_a, V)\n",
    "\n",
    "    # Update previous solution\n",
    "    u_n.assign(u_)\n",
    "    p_n.assign(p_)\n",
    "    \n",
    "error = np.abs(u_a.vector().get_local() - u_.vector().get_local()).max()\n",
    "E3 = error\n",
    "# _____________________________________________________________________________________________________________________________\n",
    "# dt=0.01\n",
    "\n",
    "T = 10.0           # temps total\n",
    "num_steps = 1000    # nombre de time steps\n",
    "dt = T / num_steps # dt\n",
    "dt4=dt\n",
    "k   = Constant(dt)\n",
    "\n",
    "t = 0\n",
    "for n in range(num_steps):\n",
    "\n",
    "    # Update current time\n",
    "    t += dt\n",
    "\n",
    "    # Step 1: Tentative velocity step\n",
    "    b1 = assemble(L1)\n",
    "    [bc.apply(b1) for bc in bcu]\n",
    "    solve(A1, u_.vector(), b1)\n",
    "\n",
    "    # Step 2: Pressure correction step\n",
    "    b2 = assemble(L2)\n",
    "    [bc.apply(b2) for bc in bcp]\n",
    "    solve(A2, p_.vector(), b2)\n",
    "\n",
    "    # Step 3: Velocity correction step\n",
    "    b3 = assemble(L3)\n",
    "    solve(A3, u_.vector(), b3)\n",
    "\n",
    "    u_a = Expression(('4*x[1]*(1.0 - x[1])', '0'), degree=2)\n",
    "    u_a = interpolate(u_a, V)\n",
    "\n",
    "    # Update previous solution\n",
    "    u_n.assign(u_)\n",
    "    p_n.assign(p_)\n",
    "    \n",
    "error = np.abs(u_a.vector().get_local() - u_.vector().get_local()).max()\n",
    "E4 = error\n",
    "\n",
    "# _____________________________________________________________________________________________________________________________\n",
    "\n",
    "N=[dt1,dt2,dt3,dt4]\n",
    "E=[E1,E2,E3,E4]\n",
    "\n",
    "plt.plot(N,E)\n",
    "plt.show()\n",
    "\n",
    "\n",
    "\n",
    "\n"
   ]
  },
  {
   "cell_type": "code",
   "execution_count": null,
   "metadata": {},
   "outputs": [],
   "source": []
  }
 ],
 "metadata": {
  "kernelspec": {
   "display_name": "Python 3",
   "language": "python",
   "name": "python3"
  },
  "language_info": {
   "codemirror_mode": {
    "name": "ipython",
    "version": 3
   },
   "file_extension": ".py",
   "mimetype": "text/x-python",
   "name": "python",
   "nbconvert_exporter": "python",
   "pygments_lexer": "ipython3",
   "version": "3.6.9"
  }
 },
 "nbformat": 4,
 "nbformat_minor": 4
}
